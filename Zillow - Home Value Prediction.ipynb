{
 "cells": [
  {
   "cell_type": "code",
   "execution_count": 1,
   "metadata": {
    "_uuid": "8f2448d1e75c0941d7fbd89ef7b9fb4f6453dd44"
   },
   "outputs": [],
   "source": [
    "import pandas as pd\n",
    "import numpy as np\n",
    "from catboost import CatBoostRegressor, Pool\n",
    "from sklearn.model_selection import train_test_split\n",
    "import gc\n",
    "import matplotlib.pyplot as plt\n",
    "%matplotlib inline"
   ]
  },
  {
   "cell_type": "markdown",
   "metadata": {
    "_uuid": "5614a92ef4ed7c11ce48a35bdb17a95382c6a79b"
   },
   "source": [
    "## Read data"
   ]
  },
  {
   "cell_type": "code",
   "execution_count": 2,
   "metadata": {
    "_uuid": "b286747052976d79af0fb8eabb7f578a0960a922"
   },
   "outputs": [
    {
     "name": "stdout",
     "output_type": "stream",
     "text": [
      "Loading Properties...\n",
      "Loading Train...\n",
      "Loading Sample ...\n"
     ]
    }
   ],
   "source": [
    "print('Loading Properties...')\n",
    "properties2016 = pd.read_csv('C:/Users/Yousuf Khan/Data/zillow-prize-1/properties_2016.csv', low_memory = False)\n",
    "properties2017 = pd.read_csv('C:/Users/Yousuf Khan/Data/zillow-prize-1/properties_2017.csv', low_memory = False)\n",
    "\n",
    "print('Loading Train...')\n",
    "train2016 = pd.read_csv('C:/Users/Yousuf Khan/Data/zillow-prize-1/train_2016_v2.csv', parse_dates=['transactiondate'], low_memory=False)\n",
    "train2017 = pd.read_csv('C:/Users/Yousuf Khan/Data/zillow-prize-1/train_2017.csv', parse_dates=['transactiondate'], low_memory=False)\n",
    "\n",
    "print('Loading Sample ...')\n",
    "sample_submission = pd.read_csv('C:/Users/Yousuf Khan/Data/zillow-prize-1/sample_submission.csv', low_memory=False)"
   ]
  },
  {
   "cell_type": "code",
   "execution_count": 3,
   "metadata": {
    "_uuid": "de6e2a9ba735e9c1d9542469c5e8ee309312b0e7"
   },
   "outputs": [],
   "source": [
    "def add_date_features(df):\n",
    "    df[\"transaction_year\"] = df[\"transactiondate\"].dt.year\n",
    "    df[\"transaction_month\"] = df[\"transactiondate\"].dt.month\n",
    "    df[\"transaction_day\"] = df[\"transactiondate\"].dt.day\n",
    "    df[\"transaction_quarter\"] = df[\"transactiondate\"].dt.quarter\n",
    "    df.drop([\"transactiondate\"], inplace=True, axis=1)\n",
    "    return df"
   ]
  },
  {
   "cell_type": "markdown",
   "metadata": {
    "_uuid": "0e164074c9d1795f0e051fd646bed67151b096f2"
   },
   "source": [
    "## Prepare training and exam data"
   ]
  },
  {
   "cell_type": "code",
   "execution_count": 4,
   "metadata": {
    "_uuid": "b6303b38083436094251ed3bf4313f8f6b6f61b1"
   },
   "outputs": [
    {
     "name": "stdout",
     "output_type": "stream",
     "text": [
      "Merge Train & Test with Properties...\n",
      "Concat Train 2016 & 2017...\n",
      "Train:  (167888, 63)\n",
      "Test:  (2985217, 65)\n",
      "Wall time: 4min 32s\n"
     ]
    }
   ],
   "source": [
    "%%time\n",
    "train2016 = add_date_features(train2016)\n",
    "train2017 = add_date_features(train2017)\n",
    "\n",
    "sample_submission['parcelid'] = sample_submission['ParcelId']\n",
    "\n",
    "print('Merge Train & Test with Properties...')\n",
    "train2016 = pd.merge(train2016, properties2016, how='left', on='parcelid')\n",
    "train2017 = pd.merge(train2017, properties2017, how='left', on='parcelid')\n",
    "test_df = pd.merge(sample_submission, properties2016, how='left', on='parcelid')\n",
    "\n",
    "print('Concat Train 2016 & 2017...')\n",
    "train_df = pd.concat([train2016, train2017], axis=0)\n",
    "\n",
    "del properties2016, properties2017, train2016, train2017\n",
    "gc.collect();\n",
    "\n",
    "print(\"Train: \", train_df.shape)\n",
    "print(\"Test: \", test_df.shape)"
   ]
  },
  {
   "cell_type": "markdown",
   "metadata": {
    "_uuid": "3e897baa0d467710ae7814291b14ffbfdbe09bfc"
   },
   "source": [
    "## Choose the attributes to be used for the training"
   ]
  },
  {
   "cell_type": "code",
   "execution_count": 5,
   "metadata": {
    "_uuid": "bcb002b0eb8523e85a03c706805c368ea3c2668e"
   },
   "outputs": [
    {
     "data": {
      "text/html": [
       "<div>\n",
       "<style scoped>\n",
       "    .dataframe tbody tr th:only-of-type {\n",
       "        vertical-align: middle;\n",
       "    }\n",
       "\n",
       "    .dataframe tbody tr th {\n",
       "        vertical-align: top;\n",
       "    }\n",
       "\n",
       "    .dataframe thead th {\n",
       "        text-align: right;\n",
       "    }\n",
       "</style>\n",
       "<table border=\"1\" class=\"dataframe\">\n",
       "  <thead>\n",
       "    <tr style=\"text-align: right;\">\n",
       "      <th></th>\n",
       "      <th>ParcelId</th>\n",
       "      <th>201610</th>\n",
       "      <th>201611</th>\n",
       "      <th>201612</th>\n",
       "      <th>201710</th>\n",
       "      <th>201711</th>\n",
       "      <th>201712</th>\n",
       "      <th>parcelid</th>\n",
       "      <th>airconditioningtypeid</th>\n",
       "      <th>architecturalstyletypeid</th>\n",
       "      <th>...</th>\n",
       "      <th>numberofstories</th>\n",
       "      <th>fireplaceflag</th>\n",
       "      <th>structuretaxvaluedollarcnt</th>\n",
       "      <th>taxvaluedollarcnt</th>\n",
       "      <th>assessmentyear</th>\n",
       "      <th>landtaxvaluedollarcnt</th>\n",
       "      <th>taxamount</th>\n",
       "      <th>taxdelinquencyflag</th>\n",
       "      <th>taxdelinquencyyear</th>\n",
       "      <th>censustractandblock</th>\n",
       "    </tr>\n",
       "  </thead>\n",
       "  <tbody>\n",
       "    <tr>\n",
       "      <th>0</th>\n",
       "      <td>10754147</td>\n",
       "      <td>0</td>\n",
       "      <td>0</td>\n",
       "      <td>0</td>\n",
       "      <td>0</td>\n",
       "      <td>0</td>\n",
       "      <td>0</td>\n",
       "      <td>10754147</td>\n",
       "      <td>NaN</td>\n",
       "      <td>NaN</td>\n",
       "      <td>...</td>\n",
       "      <td>NaN</td>\n",
       "      <td>NaN</td>\n",
       "      <td>NaN</td>\n",
       "      <td>9.0</td>\n",
       "      <td>2015.0</td>\n",
       "      <td>9.0</td>\n",
       "      <td>NaN</td>\n",
       "      <td>NaN</td>\n",
       "      <td>NaN</td>\n",
       "      <td>NaN</td>\n",
       "    </tr>\n",
       "    <tr>\n",
       "      <th>1</th>\n",
       "      <td>10759547</td>\n",
       "      <td>0</td>\n",
       "      <td>0</td>\n",
       "      <td>0</td>\n",
       "      <td>0</td>\n",
       "      <td>0</td>\n",
       "      <td>0</td>\n",
       "      <td>10759547</td>\n",
       "      <td>NaN</td>\n",
       "      <td>NaN</td>\n",
       "      <td>...</td>\n",
       "      <td>NaN</td>\n",
       "      <td>NaN</td>\n",
       "      <td>NaN</td>\n",
       "      <td>27516.0</td>\n",
       "      <td>2015.0</td>\n",
       "      <td>27516.0</td>\n",
       "      <td>NaN</td>\n",
       "      <td>NaN</td>\n",
       "      <td>NaN</td>\n",
       "      <td>NaN</td>\n",
       "    </tr>\n",
       "    <tr>\n",
       "      <th>2</th>\n",
       "      <td>10843547</td>\n",
       "      <td>0</td>\n",
       "      <td>0</td>\n",
       "      <td>0</td>\n",
       "      <td>0</td>\n",
       "      <td>0</td>\n",
       "      <td>0</td>\n",
       "      <td>10843547</td>\n",
       "      <td>NaN</td>\n",
       "      <td>NaN</td>\n",
       "      <td>...</td>\n",
       "      <td>NaN</td>\n",
       "      <td>NaN</td>\n",
       "      <td>650756.0</td>\n",
       "      <td>1413387.0</td>\n",
       "      <td>2015.0</td>\n",
       "      <td>762631.0</td>\n",
       "      <td>20800.37</td>\n",
       "      <td>NaN</td>\n",
       "      <td>NaN</td>\n",
       "      <td>NaN</td>\n",
       "    </tr>\n",
       "    <tr>\n",
       "      <th>3</th>\n",
       "      <td>10859147</td>\n",
       "      <td>0</td>\n",
       "      <td>0</td>\n",
       "      <td>0</td>\n",
       "      <td>0</td>\n",
       "      <td>0</td>\n",
       "      <td>0</td>\n",
       "      <td>10859147</td>\n",
       "      <td>NaN</td>\n",
       "      <td>NaN</td>\n",
       "      <td>...</td>\n",
       "      <td>1.0</td>\n",
       "      <td>NaN</td>\n",
       "      <td>571346.0</td>\n",
       "      <td>1156834.0</td>\n",
       "      <td>2015.0</td>\n",
       "      <td>585488.0</td>\n",
       "      <td>14557.57</td>\n",
       "      <td>NaN</td>\n",
       "      <td>NaN</td>\n",
       "      <td>NaN</td>\n",
       "    </tr>\n",
       "    <tr>\n",
       "      <th>4</th>\n",
       "      <td>10879947</td>\n",
       "      <td>0</td>\n",
       "      <td>0</td>\n",
       "      <td>0</td>\n",
       "      <td>0</td>\n",
       "      <td>0</td>\n",
       "      <td>0</td>\n",
       "      <td>10879947</td>\n",
       "      <td>NaN</td>\n",
       "      <td>NaN</td>\n",
       "      <td>...</td>\n",
       "      <td>NaN</td>\n",
       "      <td>NaN</td>\n",
       "      <td>193796.0</td>\n",
       "      <td>433491.0</td>\n",
       "      <td>2015.0</td>\n",
       "      <td>239695.0</td>\n",
       "      <td>5725.17</td>\n",
       "      <td>NaN</td>\n",
       "      <td>NaN</td>\n",
       "      <td>NaN</td>\n",
       "    </tr>\n",
       "  </tbody>\n",
       "</table>\n",
       "<p>5 rows × 65 columns</p>\n",
       "</div>"
      ],
      "text/plain": [
       "   ParcelId  201610  201611  201612  201710  201711  201712  parcelid  \\\n",
       "0  10754147       0       0       0       0       0       0  10754147   \n",
       "1  10759547       0       0       0       0       0       0  10759547   \n",
       "2  10843547       0       0       0       0       0       0  10843547   \n",
       "3  10859147       0       0       0       0       0       0  10859147   \n",
       "4  10879947       0       0       0       0       0       0  10879947   \n",
       "\n",
       "   airconditioningtypeid  architecturalstyletypeid  ...  numberofstories  \\\n",
       "0                    NaN                       NaN  ...              NaN   \n",
       "1                    NaN                       NaN  ...              NaN   \n",
       "2                    NaN                       NaN  ...              NaN   \n",
       "3                    NaN                       NaN  ...              1.0   \n",
       "4                    NaN                       NaN  ...              NaN   \n",
       "\n",
       "   fireplaceflag  structuretaxvaluedollarcnt  taxvaluedollarcnt  \\\n",
       "0            NaN                         NaN                9.0   \n",
       "1            NaN                         NaN            27516.0   \n",
       "2            NaN                    650756.0          1413387.0   \n",
       "3            NaN                    571346.0          1156834.0   \n",
       "4            NaN                    193796.0           433491.0   \n",
       "\n",
       "   assessmentyear  landtaxvaluedollarcnt  taxamount  taxdelinquencyflag  \\\n",
       "0          2015.0                    9.0        NaN                 NaN   \n",
       "1          2015.0                27516.0        NaN                 NaN   \n",
       "2          2015.0               762631.0   20800.37                 NaN   \n",
       "3          2015.0               585488.0   14557.57                 NaN   \n",
       "4          2015.0               239695.0    5725.17                 NaN   \n",
       "\n",
       "   taxdelinquencyyear  censustractandblock  \n",
       "0                 NaN                  NaN  \n",
       "1                 NaN                  NaN  \n",
       "2                 NaN                  NaN  \n",
       "3                 NaN                  NaN  \n",
       "4                 NaN                  NaN  \n",
       "\n",
       "[5 rows x 65 columns]"
      ]
     },
     "execution_count": 5,
     "metadata": {},
     "output_type": "execute_result"
    }
   ],
   "source": [
    "test_df.head()"
   ]
  },
  {
   "cell_type": "code",
   "execution_count": 6,
   "metadata": {},
   "outputs": [
    {
     "data": {
      "text/html": [
       "<div>\n",
       "<style scoped>\n",
       "    .dataframe tbody tr th:only-of-type {\n",
       "        vertical-align: middle;\n",
       "    }\n",
       "\n",
       "    .dataframe tbody tr th {\n",
       "        vertical-align: top;\n",
       "    }\n",
       "\n",
       "    .dataframe thead th {\n",
       "        text-align: right;\n",
       "    }\n",
       "</style>\n",
       "<table border=\"1\" class=\"dataframe\">\n",
       "  <thead>\n",
       "    <tr style=\"text-align: right;\">\n",
       "      <th></th>\n",
       "      <th>parcelid</th>\n",
       "      <th>logerror</th>\n",
       "      <th>transaction_year</th>\n",
       "      <th>transaction_month</th>\n",
       "      <th>transaction_day</th>\n",
       "      <th>transaction_quarter</th>\n",
       "      <th>airconditioningtypeid</th>\n",
       "      <th>architecturalstyletypeid</th>\n",
       "      <th>basementsqft</th>\n",
       "      <th>bathroomcnt</th>\n",
       "      <th>...</th>\n",
       "      <th>numberofstories</th>\n",
       "      <th>fireplaceflag</th>\n",
       "      <th>structuretaxvaluedollarcnt</th>\n",
       "      <th>taxvaluedollarcnt</th>\n",
       "      <th>assessmentyear</th>\n",
       "      <th>landtaxvaluedollarcnt</th>\n",
       "      <th>taxamount</th>\n",
       "      <th>taxdelinquencyflag</th>\n",
       "      <th>taxdelinquencyyear</th>\n",
       "      <th>censustractandblock</th>\n",
       "    </tr>\n",
       "  </thead>\n",
       "  <tbody>\n",
       "    <tr>\n",
       "      <th>0</th>\n",
       "      <td>11016594</td>\n",
       "      <td>0.0276</td>\n",
       "      <td>2016</td>\n",
       "      <td>1</td>\n",
       "      <td>1</td>\n",
       "      <td>1</td>\n",
       "      <td>1.0</td>\n",
       "      <td>NaN</td>\n",
       "      <td>NaN</td>\n",
       "      <td>2.0</td>\n",
       "      <td>...</td>\n",
       "      <td>NaN</td>\n",
       "      <td>NaN</td>\n",
       "      <td>122754.0</td>\n",
       "      <td>360170.0</td>\n",
       "      <td>2015.0</td>\n",
       "      <td>237416.0</td>\n",
       "      <td>6735.88</td>\n",
       "      <td>NaN</td>\n",
       "      <td>NaN</td>\n",
       "      <td>6.037107e+13</td>\n",
       "    </tr>\n",
       "    <tr>\n",
       "      <th>1</th>\n",
       "      <td>14366692</td>\n",
       "      <td>-0.1684</td>\n",
       "      <td>2016</td>\n",
       "      <td>1</td>\n",
       "      <td>1</td>\n",
       "      <td>1</td>\n",
       "      <td>NaN</td>\n",
       "      <td>NaN</td>\n",
       "      <td>NaN</td>\n",
       "      <td>3.5</td>\n",
       "      <td>...</td>\n",
       "      <td>NaN</td>\n",
       "      <td>NaN</td>\n",
       "      <td>346458.0</td>\n",
       "      <td>585529.0</td>\n",
       "      <td>2015.0</td>\n",
       "      <td>239071.0</td>\n",
       "      <td>10153.02</td>\n",
       "      <td>NaN</td>\n",
       "      <td>NaN</td>\n",
       "      <td>NaN</td>\n",
       "    </tr>\n",
       "    <tr>\n",
       "      <th>2</th>\n",
       "      <td>12098116</td>\n",
       "      <td>-0.0040</td>\n",
       "      <td>2016</td>\n",
       "      <td>1</td>\n",
       "      <td>1</td>\n",
       "      <td>1</td>\n",
       "      <td>1.0</td>\n",
       "      <td>NaN</td>\n",
       "      <td>NaN</td>\n",
       "      <td>3.0</td>\n",
       "      <td>...</td>\n",
       "      <td>NaN</td>\n",
       "      <td>NaN</td>\n",
       "      <td>61994.0</td>\n",
       "      <td>119906.0</td>\n",
       "      <td>2015.0</td>\n",
       "      <td>57912.0</td>\n",
       "      <td>11484.48</td>\n",
       "      <td>NaN</td>\n",
       "      <td>NaN</td>\n",
       "      <td>6.037464e+13</td>\n",
       "    </tr>\n",
       "    <tr>\n",
       "      <th>3</th>\n",
       "      <td>12643413</td>\n",
       "      <td>0.0218</td>\n",
       "      <td>2016</td>\n",
       "      <td>1</td>\n",
       "      <td>2</td>\n",
       "      <td>1</td>\n",
       "      <td>1.0</td>\n",
       "      <td>NaN</td>\n",
       "      <td>NaN</td>\n",
       "      <td>2.0</td>\n",
       "      <td>...</td>\n",
       "      <td>NaN</td>\n",
       "      <td>NaN</td>\n",
       "      <td>171518.0</td>\n",
       "      <td>244880.0</td>\n",
       "      <td>2015.0</td>\n",
       "      <td>73362.0</td>\n",
       "      <td>3048.74</td>\n",
       "      <td>NaN</td>\n",
       "      <td>NaN</td>\n",
       "      <td>6.037296e+13</td>\n",
       "    </tr>\n",
       "    <tr>\n",
       "      <th>4</th>\n",
       "      <td>14432541</td>\n",
       "      <td>-0.0050</td>\n",
       "      <td>2016</td>\n",
       "      <td>1</td>\n",
       "      <td>2</td>\n",
       "      <td>1</td>\n",
       "      <td>NaN</td>\n",
       "      <td>NaN</td>\n",
       "      <td>NaN</td>\n",
       "      <td>2.5</td>\n",
       "      <td>...</td>\n",
       "      <td>2.0</td>\n",
       "      <td>NaN</td>\n",
       "      <td>169574.0</td>\n",
       "      <td>434551.0</td>\n",
       "      <td>2015.0</td>\n",
       "      <td>264977.0</td>\n",
       "      <td>5488.96</td>\n",
       "      <td>NaN</td>\n",
       "      <td>NaN</td>\n",
       "      <td>6.059042e+13</td>\n",
       "    </tr>\n",
       "  </tbody>\n",
       "</table>\n",
       "<p>5 rows × 63 columns</p>\n",
       "</div>"
      ],
      "text/plain": [
       "   parcelid  logerror  transaction_year  transaction_month  transaction_day  \\\n",
       "0  11016594    0.0276              2016                  1                1   \n",
       "1  14366692   -0.1684              2016                  1                1   \n",
       "2  12098116   -0.0040              2016                  1                1   \n",
       "3  12643413    0.0218              2016                  1                2   \n",
       "4  14432541   -0.0050              2016                  1                2   \n",
       "\n",
       "   transaction_quarter  airconditioningtypeid  architecturalstyletypeid  \\\n",
       "0                    1                    1.0                       NaN   \n",
       "1                    1                    NaN                       NaN   \n",
       "2                    1                    1.0                       NaN   \n",
       "3                    1                    1.0                       NaN   \n",
       "4                    1                    NaN                       NaN   \n",
       "\n",
       "   basementsqft  bathroomcnt  ...  numberofstories  fireplaceflag  \\\n",
       "0           NaN          2.0  ...              NaN            NaN   \n",
       "1           NaN          3.5  ...              NaN            NaN   \n",
       "2           NaN          3.0  ...              NaN            NaN   \n",
       "3           NaN          2.0  ...              NaN            NaN   \n",
       "4           NaN          2.5  ...              2.0            NaN   \n",
       "\n",
       "   structuretaxvaluedollarcnt  taxvaluedollarcnt  assessmentyear  \\\n",
       "0                    122754.0           360170.0          2015.0   \n",
       "1                    346458.0           585529.0          2015.0   \n",
       "2                     61994.0           119906.0          2015.0   \n",
       "3                    171518.0           244880.0          2015.0   \n",
       "4                    169574.0           434551.0          2015.0   \n",
       "\n",
       "   landtaxvaluedollarcnt  taxamount  taxdelinquencyflag  taxdelinquencyyear  \\\n",
       "0               237416.0    6735.88                 NaN                 NaN   \n",
       "1               239071.0   10153.02                 NaN                 NaN   \n",
       "2                57912.0   11484.48                 NaN                 NaN   \n",
       "3                73362.0    3048.74                 NaN                 NaN   \n",
       "4               264977.0    5488.96                 NaN                 NaN   \n",
       "\n",
       "   censustractandblock  \n",
       "0         6.037107e+13  \n",
       "1                  NaN  \n",
       "2         6.037464e+13  \n",
       "3         6.037296e+13  \n",
       "4         6.059042e+13  \n",
       "\n",
       "[5 rows x 63 columns]"
      ]
     },
     "execution_count": 6,
     "metadata": {},
     "output_type": "execute_result"
    }
   ],
   "source": [
    "train_df.head()"
   ]
  },
  {
   "cell_type": "markdown",
   "metadata": {
    "_uuid": "190b2968c052dee247ff2646255157a87899bf16"
   },
   "source": [
    "## Remove almost empty columns"
   ]
  },
  {
   "cell_type": "code",
   "execution_count": 7,
   "metadata": {
    "_uuid": "1d7972af9661e568f6e8c8e731282c4abc8cb778"
   },
   "outputs": [
    {
     "name": "stdout",
     "output_type": "stream",
     "text": [
      "architecturalstyletypeid ------ 0.99721\n",
      "basementsqft ------ 0.99945\n",
      "buildingclasstypeid ------ 0.99982\n",
      "decktypeid ------ 0.99242\n",
      "finishedsquarefeet13 ------ 0.99955\n",
      "finishedsquarefeet6 ------ 0.99519\n",
      "poolsizesum ------ 0.98905\n",
      "pooltypeid10 ------ 0.99031\n",
      "pooltypeid2 ------ 0.98643\n",
      "storytypeid ------ 0.99945\n",
      "typeconstructiontypeid ------ 0.99689\n",
      "yardbuildingsqft26 ------ 0.99902\n",
      "fireplaceflag ------ 0.99765\n",
      "\n",
      "We exclude: ['architecturalstyletypeid', 'basementsqft', 'buildingclasstypeid', 'decktypeid', 'finishedsquarefeet13', 'finishedsquarefeet6', 'poolsizesum', 'pooltypeid10', 'pooltypeid2', 'storytypeid', 'typeconstructiontypeid', 'yardbuildingsqft26', 'fireplaceflag']\n",
      "\n",
      " 13\n"
     ]
    }
   ],
   "source": [
    "missing_perc_thresh = 0.98\n",
    "exclude_missing = []\n",
    "num_rows = train_df.shape[0]\n",
    "for c in train_df.columns:\n",
    "    num_missing = train_df[c].isnull().sum()\n",
    "    if num_missing == 0:\n",
    "        continue\n",
    "    missing_frac = num_missing / float(num_rows)\n",
    "    if missing_frac > missing_perc_thresh:\n",
    "        print(c, \"------\",\"{:.5f}\".format(missing_frac))\n",
    "        exclude_missing.append(c)\n",
    "print(\"\\nWe exclude:\",exclude_missing)\n",
    "print(\"\\n\",len(exclude_missing))"
   ]
  },
  {
   "cell_type": "code",
   "execution_count": 10,
   "metadata": {},
   "outputs": [
    {
     "name": "stdout",
     "output_type": "stream",
     "text": [
      "decktypeid [nan 66.]\n",
      "hashottuborspa [nan True]\n",
      "poolcnt [nan  1.]\n",
      "pooltypeid10 [nan  1.]\n",
      "pooltypeid2 [nan  1.]\n",
      "pooltypeid7 [nan  1.]\n",
      "storytypeid [nan  7.]\n",
      "fireplaceflag [nan True]\n",
      "taxdelinquencyflag [nan 'Y']\n"
     ]
    }
   ],
   "source": [
    "for c in train_df.columns:\n",
    "     if train_df[c].isnull().sum() != 0:\n",
    "        if len(train_df[c].unique()) == 2:\n",
    "            print(c, train_df[c].unique())"
   ]
  },
  {
   "cell_type": "markdown",
   "metadata": {
    "_uuid": "9238f97c5c06b81c9a6e4efb3b83e50062da19e4"
   },
   "source": [
    "## Remove all columns with only one unique value along with null values"
   ]
  },
  {
   "cell_type": "code",
   "execution_count": 9,
   "metadata": {
    "_uuid": "038e97707ee1f60047de478b9136d2f02a9ee974"
   },
   "outputs": [
    {
     "name": "stdout",
     "output_type": "stream",
     "text": [
      "We exclude: ['decktypeid', 'hashottuborspa', 'poolcnt', 'pooltypeid10', 'pooltypeid2', 'pooltypeid7', 'storytypeid', 'fireplaceflag', 'taxdelinquencyflag']\n",
      "\n",
      " 9\n"
     ]
    }
   ],
   "source": [
    "exclude_unique = []\n",
    "for c in train_df.columns:\n",
    "    num_uniques = len(train_df[c].unique())\n",
    "    if train_df[c].isnull().sum() != 0:\n",
    "        num_uniques -= 1\n",
    "    if num_uniques == 1:\n",
    "        exclude_unique.append(c)\n",
    "print(\"We exclude: %s\" % exclude_unique)\n",
    "print(\"\\n\",len(exclude_unique))"
   ]
  },
  {
   "cell_type": "markdown",
   "metadata": {
    "_uuid": "5258b31050ee5c08252b93473096d9cc47dea3b4"
   },
   "source": [
    "## Select the attributes or columns to be used for the training"
   ]
  },
  {
   "cell_type": "code",
   "execution_count": 10,
   "metadata": {
    "_uuid": "3b98a116192f0ec3e0c97a013b8bc4810e424a1a"
   },
   "outputs": [
    {
     "name": "stdout",
     "output_type": "stream",
     "text": [
      "We use these for training: ['transaction_year', 'transaction_month', 'transaction_day', 'transaction_quarter', 'airconditioningtypeid', 'bathroomcnt', 'bedroomcnt', 'buildingqualitytypeid', 'calculatedbathnbr', 'finishedfloor1squarefeet', 'calculatedfinishedsquarefeet', 'finishedsquarefeet12', 'finishedsquarefeet15', 'finishedsquarefeet50', 'fips', 'fireplacecnt', 'fullbathcnt', 'garagecarcnt', 'garagetotalsqft', 'heatingorsystemtypeid', 'latitude', 'longitude', 'lotsizesquarefeet', 'propertycountylandusecode', 'propertylandusetypeid', 'rawcensustractandblock', 'regionidcity', 'regionidcounty', 'regionidneighborhood', 'regionidzip', 'roomcnt', 'threequarterbathnbr', 'unitcnt', 'yardbuildingsqft17', 'yearbuilt', 'numberofstories', 'structuretaxvaluedollarcnt', 'taxvaluedollarcnt', 'assessmentyear', 'landtaxvaluedollarcnt', 'taxamount', 'taxdelinquencyyear', 'censustractandblock']\n",
      "\n",
      " 43\n"
     ]
    }
   ],
   "source": [
    "exclude_other = ['parcelid', 'logerror','propertyzoningdesc']\n",
    "train_features = []\n",
    "for c in train_df.columns:\n",
    "    if c not in exclude_missing \\\n",
    "       and c not in exclude_other and c not in exclude_unique:\n",
    "        train_features.append(c)\n",
    "print(\"We use these for training: %s\" % train_features)\n",
    "print(\"\\n\",len(train_features))"
   ]
  },
  {
   "cell_type": "markdown",
   "metadata": {
    "_uuid": "c29cd83f7bb474fa49a153f4594958f6ee5007cf"
   },
   "source": [
    "## Classifiable features"
   ]
  },
  {
   "cell_type": "code",
   "execution_count": 11,
   "metadata": {
    "_uuid": "fe2b986c56f2c720c3dcdde77dc37827e9b3319a"
   },
   "outputs": [
    {
     "name": "stdout",
     "output_type": "stream",
     "text": [
      "Cat features are: ['transaction_year', 'transaction_month', 'transaction_day', 'transaction_quarter', 'airconditioningtypeid', 'buildingqualitytypeid', 'fips', 'heatingorsystemtypeid', 'propertycountylandusecode', 'propertylandusetypeid', 'regionidcity', 'regionidcounty', 'regionidneighborhood', 'regionidzip', 'yearbuilt', 'assessmentyear', 'taxdelinquencyyear']\n"
     ]
    }
   ],
   "source": [
    "cat_feature_inds = []\n",
    "cat_unique_thresh = 1000\n",
    "for i, c in enumerate(train_features):\n",
    "    num_uniques = len(train_df[c].unique())\n",
    "    if num_uniques < cat_unique_thresh \\\n",
    "       and not 'sqft' in c \\\n",
    "       and not 'cnt' in c \\\n",
    "       and not 'nbr' in c \\\n",
    "       and not 'number' in c:\n",
    "        cat_feature_inds.append(i)\n",
    "        \n",
    "print(\"Cat features are: %s\" % [train_features[ind] for ind in cat_feature_inds])"
   ]
  },
  {
   "cell_type": "markdown",
   "metadata": {
    "_uuid": "6f0651461e66238bd83b6160ce73c893cadd26c8"
   },
   "source": [
    "## Fill in the blank values"
   ]
  },
  {
   "cell_type": "code",
   "execution_count": 12,
   "metadata": {
    "_uuid": "d725b6ec4cfbed075e0db1ba3008e18fdcbbd24e"
   },
   "outputs": [
    {
     "name": "stdout",
     "output_type": "stream",
     "text": [
      "Replacing NaN values by -999 !!\n"
     ]
    }
   ],
   "source": [
    "print (\"Replacing NaN values by -999 !!\")\n",
    "train_df.fillna(-999, inplace=True)\n",
    "test_df.fillna(-999, inplace=True)"
   ]
  },
  {
   "cell_type": "markdown",
   "metadata": {
    "_uuid": "fdcfa91b58d3437b6d949738bdea683cd5e87dbd"
   },
   "source": [
    "# Training"
   ]
  },
  {
   "cell_type": "code",
   "execution_count": 13,
   "metadata": {
    "_uuid": "f062a00ad90916a230149f71da1e9493a3d92287"
   },
   "outputs": [],
   "source": [
    "def print_feature_importance(model, pool, X_train):\n",
    "    feature_importances = model.get_feature_importance(pool)\n",
    "    feature_names = X_train.columns\n",
    "    for score, name in sorted(zip(feature_importances, feature_names), reverse=True):\n",
    "        print('{}\\t{}'.format(name, score))"
   ]
  },
  {
   "cell_type": "code",
   "execution_count": 14,
   "metadata": {
    "_uuid": "fa307abcf209af54dcb1db4d715aba895015e5b3"
   },
   "outputs": [
    {
     "name": "stdout",
     "output_type": "stream",
     "text": [
      "(134310, 43) (134310,)\n",
      "(33578, 43) (33578,)\n"
     ]
    }
   ],
   "source": [
    "X_train, X_test, y_train, y_test = train_test_split(train_df[train_features], train_df.logerror, test_size=0.2, random_state=99)\n",
    "print(X_train.shape, y_train.shape)\n",
    "print(X_test.shape, y_test.shape)\n",
    "\n",
    "all_pool = Pool(train_df[train_features], train_df.logerror, cat_feature_inds)\n",
    "train_pool = Pool(X_train, y_train, cat_feature_inds)\n",
    "test_pool = Pool(X_test, y_test, cat_feature_inds)"
   ]
  },
  {
   "cell_type": "code",
   "execution_count": 15,
   "metadata": {},
   "outputs": [
    {
     "data": {
      "text/plain": [
       "<catboost.core.Pool at 0x1c080186678>"
      ]
     },
     "execution_count": 15,
     "metadata": {},
     "output_type": "execute_result"
    }
   ],
   "source": [
    "train_pool"
   ]
  },
  {
   "cell_type": "code",
   "execution_count": 16,
   "metadata": {},
   "outputs": [
    {
     "data": {
      "text/plain": [
       "32872   -0.001000\n",
       "51062   -0.029737\n",
       "70941    0.031500\n",
       "2118    -0.077560\n",
       "63050    0.041100\n",
       "Name: logerror, dtype: float64"
      ]
     },
     "execution_count": 16,
     "metadata": {},
     "output_type": "execute_result"
    }
   ],
   "source": [
    "y_train.head()"
   ]
  },
  {
   "cell_type": "code",
   "execution_count": 17,
   "metadata": {
    "_uuid": "9898d8afbbe0086d8b25733a1529b253cb352a7b"
   },
   "outputs": [],
   "source": [
    "catboost_parameters = {\n",
    "    'iterations': 400,\n",
    "    'learning_rate': 0.035,\n",
    "    'depth': 7,\n",
    "    'verbose': 20,\n",
    "#     'l2_leaf_reg': 1000,\n",
    "    'task_type': 'GPU',\n",
    "    'loss_function': 'MAE',\n",
    "    'eval_metric': 'MAE',\n",
    "    'random_seed': 0,\n",
    "}"
   ]
  },
  {
   "cell_type": "markdown",
   "metadata": {
    "_uuid": "ab6ce7eeab6bd8b5f7f9ffef4fe230bd6169303e"
   },
   "source": [
    "## CatBoostRegressor"
   ]
  },
  {
   "cell_type": "code",
   "execution_count": 18,
   "metadata": {
    "_kg_hide-output": false,
    "_uuid": "fbdec73291699fe5770dee28aa477253be9b52e2",
    "scrolled": true
   },
   "outputs": [
    {
     "name": "stdout",
     "output_type": "stream",
     "text": [
      "0:\tlearn: 0.0685721\ttest: 0.0698997\tbest: 0.0698997 (0)\ttotal: 636ms\tremaining: 4m 13s\n",
      "20:\tlearn: 0.0676645\ttest: 0.0691855\tbest: 0.0691855 (20)\ttotal: 7.61s\tremaining: 2m 17s\n",
      "40:\tlearn: 0.0673697\ttest: 0.0690752\tbest: 0.0690752 (40)\ttotal: 14.6s\tremaining: 2m 7s\n",
      "60:\tlearn: 0.0671764\ttest: 0.0690454\tbest: 0.0690454 (60)\ttotal: 21.2s\tremaining: 1m 57s\n",
      "80:\tlearn: 0.0670239\ttest: 0.0690356\tbest: 0.0690356 (80)\ttotal: 27.7s\tremaining: 1m 48s\n",
      "100:\tlearn: 0.0668856\ttest: 0.0690200\tbest: 0.0690200 (100)\ttotal: 34.4s\tremaining: 1m 41s\n",
      "120:\tlearn: 0.0667335\ttest: 0.0690136\tbest: 0.0690136 (120)\ttotal: 41s\tremaining: 1m 34s\n",
      "140:\tlearn: 0.0666128\ttest: 0.0690146\tbest: 0.0690097 (129)\ttotal: 46.8s\tremaining: 1m 26s\n",
      "160:\tlearn: 0.0665155\ttest: 0.0690159\tbest: 0.0690097 (129)\ttotal: 52.9s\tremaining: 1m 18s\n",
      "180:\tlearn: 0.0664104\ttest: 0.0690093\tbest: 0.0690065 (173)\ttotal: 59.4s\tremaining: 1m 11s\n",
      "200:\tlearn: 0.0663087\ttest: 0.0690160\tbest: 0.0690065 (173)\ttotal: 1m 5s\tremaining: 1m 5s\n",
      "220:\tlearn: 0.0662226\ttest: 0.0690164\tbest: 0.0690065 (173)\ttotal: 1m 11s\tremaining: 58.2s\n",
      "240:\tlearn: 0.0661507\ttest: 0.0690104\tbest: 0.0690065 (173)\ttotal: 1m 17s\tremaining: 51.3s\n",
      "260:\tlearn: 0.0660741\ttest: 0.0690123\tbest: 0.0690045 (244)\ttotal: 1m 24s\tremaining: 44.8s\n",
      "280:\tlearn: 0.0659952\ttest: 0.0690184\tbest: 0.0690045 (244)\ttotal: 1m 29s\tremaining: 38.1s\n",
      "300:\tlearn: 0.0659285\ttest: 0.0690127\tbest: 0.0690045 (244)\ttotal: 1m 35s\tremaining: 31.6s\n",
      "320:\tlearn: 0.0658578\ttest: 0.0690178\tbest: 0.0690045 (244)\ttotal: 1m 42s\tremaining: 25.1s\n",
      "340:\tlearn: 0.0657899\ttest: 0.0690271\tbest: 0.0690045 (244)\ttotal: 1m 48s\tremaining: 18.7s\n",
      "360:\tlearn: 0.0657157\ttest: 0.0690242\tbest: 0.0690045 (244)\ttotal: 1m 54s\tremaining: 12.4s\n",
      "380:\tlearn: 0.0656508\ttest: 0.0690226\tbest: 0.0690045 (244)\ttotal: 2m\tremaining: 6.02s\n",
      "399:\tlearn: 0.0655974\ttest: 0.0690188\tbest: 0.0690045 (244)\ttotal: 2m 6s\tremaining: 0us\n",
      "bestTest = 0.06900448123\n",
      "bestIteration = 244\n",
      "Shrink model to first 245 iterations.\n"
     ]
    },
    {
     "data": {
      "text/plain": [
       "<catboost.core.CatBoostRegressor at 0x1c0e2c95390>"
      ]
     },
     "execution_count": 18,
     "metadata": {},
     "output_type": "execute_result"
    }
   ],
   "source": [
    "model = CatBoostRegressor(**catboost_parameters)\n",
    "model.fit(train_pool, eval_set=test_pool)"
   ]
  },
  {
   "cell_type": "code",
   "execution_count": 19,
   "metadata": {
    "_uuid": "46dcdd52cad32d4bf97c968cce749cc82bc63f2c"
   },
   "outputs": [
    {
     "name": "stdout",
     "output_type": "stream",
     "text": [
      "regionidzip\t6.953406502023265\n",
      "yearbuilt\t6.281918858949721\n",
      "finishedsquarefeet12\t6.1919648863190755\n",
      "transaction_month\t6.173953224491355\n",
      "calculatedfinishedsquarefeet\t5.751172272035678\n",
      "propertycountylandusecode\t5.183058365739174\n",
      "transaction_day\t4.9891619256545034\n",
      "taxamount\t4.826309698346977\n",
      "regionidcity\t4.344205969502303\n",
      "lotsizesquarefeet\t3.752647671848723\n",
      "regionidneighborhood\t3.544050176441048\n",
      "structuretaxvaluedollarcnt\t3.4424464678274753\n",
      "propertylandusetypeid\t3.1758155985692023\n",
      "latitude\t3.1229722917229443\n",
      "taxvaluedollarcnt\t3.095788564573395\n",
      "assessmentyear\t3.0193749277922888\n",
      "buildingqualitytypeid\t2.7738720134653327\n",
      "heatingorsystemtypeid\t2.3993810576985624\n",
      "transaction_quarter\t2.389034293801706\n",
      "airconditioningtypeid\t2.1900429596160516\n",
      "landtaxvaluedollarcnt\t2.090379667982566\n",
      "longitude\t2.084941793526099\n",
      "censustractandblock\t1.9819640092392496\n",
      "taxdelinquencyyear\t1.6779208897534241\n",
      "bedroomcnt\t1.3816512052728742\n",
      "rawcensustractandblock\t1.2896210810684796\n",
      "garagetotalsqft\t1.2115343724459853\n",
      "regionidcounty\t0.9201561260597806\n",
      "fips\t0.5876459871452563\n",
      "fullbathcnt\t0.5077857245994675\n",
      "unitcnt\t0.4097842505855751\n",
      "finishedsquarefeet15\t0.3988227730978366\n",
      "numberofstories\t0.3490267640307051\n",
      "yardbuildingsqft17\t0.28836273675846696\n",
      "garagecarcnt\t0.27502766305813725\n",
      "bathroomcnt\t0.2547644862816086\n",
      "fireplacecnt\t0.2494142026277934\n",
      "calculatedbathnbr\t0.17255932328597764\n",
      "finishedsquarefeet50\t0.15219695308508566\n",
      "roomcnt\t0.07025687344539246\n",
      "threequarterbathnbr\t0.04560539023148275\n",
      "transaction_year\t0.0\n",
      "finishedfloor1squarefeet\t0.0\n"
     ]
    }
   ],
   "source": [
    "print_feature_importance(model, train_pool, X_train)"
   ]
  },
  {
   "cell_type": "markdown",
   "metadata": {
    "_uuid": "70ef08ede39794e45d0bcd8259e4ff3afb033022"
   },
   "source": [
    "## Ensemble - CatBoostRegressor"
   ]
  },
  {
   "cell_type": "code",
   "execution_count": 21,
   "metadata": {
    "_uuid": "aad9a98ca050dd802bfc4cb21f6b5076d8613cf6"
   },
   "outputs": [
    {
     "name": "stdout",
     "output_type": "stream",
     "text": [
      "\n",
      "Training (ensemble): 0 ...\n",
      "0:\tlearn: 0.0685721\ttest: 0.0698997\tbest: 0.0698997 (0)\ttotal: 317ms\tremaining: 2m 6s\n",
      "20:\tlearn: 0.0676645\ttest: 0.0691855\tbest: 0.0691855 (20)\ttotal: 7.27s\tremaining: 2m 11s\n",
      "40:\tlearn: 0.0673697\ttest: 0.0690752\tbest: 0.0690752 (40)\ttotal: 14.2s\tremaining: 2m 4s\n",
      "60:\tlearn: 0.0671764\ttest: 0.0690454\tbest: 0.0690454 (60)\ttotal: 20.8s\tremaining: 1m 55s\n",
      "80:\tlearn: 0.0670239\ttest: 0.0690356\tbest: 0.0690356 (80)\ttotal: 27.2s\tremaining: 1m 47s\n",
      "100:\tlearn: 0.0668856\ttest: 0.0690200\tbest: 0.0690200 (100)\ttotal: 34s\tremaining: 1m 40s\n",
      "120:\tlearn: 0.0667335\ttest: 0.0690136\tbest: 0.0690136 (120)\ttotal: 40.5s\tremaining: 1m 33s\n",
      "140:\tlearn: 0.0666128\ttest: 0.0690146\tbest: 0.0690097 (129)\ttotal: 46.4s\tremaining: 1m 25s\n",
      "160:\tlearn: 0.0665155\ttest: 0.0690159\tbest: 0.0690097 (129)\ttotal: 52.4s\tremaining: 1m 17s\n",
      "180:\tlearn: 0.0664104\ttest: 0.0690093\tbest: 0.0690065 (173)\ttotal: 58.9s\tremaining: 1m 11s\n",
      "200:\tlearn: 0.0663087\ttest: 0.0690160\tbest: 0.0690065 (173)\ttotal: 1m 5s\tremaining: 1m 4s\n",
      "220:\tlearn: 0.0662226\ttest: 0.0690164\tbest: 0.0690065 (173)\ttotal: 1m 11s\tremaining: 57.6s\n",
      "240:\tlearn: 0.0661507\ttest: 0.0690104\tbest: 0.0690065 (173)\ttotal: 1m 17s\tremaining: 50.9s\n",
      "260:\tlearn: 0.0660741\ttest: 0.0690123\tbest: 0.0690045 (244)\ttotal: 1m 23s\tremaining: 44.4s\n",
      "280:\tlearn: 0.0659952\ttest: 0.0690184\tbest: 0.0690045 (244)\ttotal: 1m 29s\tremaining: 37.8s\n",
      "300:\tlearn: 0.0659285\ttest: 0.0690127\tbest: 0.0690045 (244)\ttotal: 1m 35s\tremaining: 31.3s\n",
      "320:\tlearn: 0.0658578\ttest: 0.0690178\tbest: 0.0690045 (244)\ttotal: 1m 41s\tremaining: 24.9s\n",
      "340:\tlearn: 0.0657898\ttest: 0.0690271\tbest: 0.0690045 (244)\ttotal: 1m 47s\tremaining: 18.6s\n",
      "360:\tlearn: 0.0657156\ttest: 0.0690242\tbest: 0.0690045 (244)\ttotal: 1m 53s\tremaining: 12.3s\n",
      "380:\tlearn: 0.0656508\ttest: 0.0690226\tbest: 0.0690045 (244)\ttotal: 1m 59s\tremaining: 5.98s\n",
      "399:\tlearn: 0.0655974\ttest: 0.0690188\tbest: 0.0690045 (244)\ttotal: 2m 5s\tremaining: 0us\n",
      "bestTest = 0.06900448123\n",
      "bestIteration = 244\n",
      "Shrink model to first 245 iterations.\n",
      "-- Feature Importance --\n",
      "regionidzip\t6.953406502023265\n",
      "yearbuilt\t6.281918858949721\n",
      "finishedsquarefeet12\t6.1919648863190755\n",
      "transaction_month\t6.173953224491355\n",
      "calculatedfinishedsquarefeet\t5.751172272035678\n",
      "propertycountylandusecode\t5.183058365739174\n",
      "transaction_day\t4.9891619256545034\n",
      "taxamount\t4.826309698346977\n",
      "regionidcity\t4.344205969502303\n",
      "lotsizesquarefeet\t3.752647671848723\n",
      "regionidneighborhood\t3.544050176441048\n",
      "structuretaxvaluedollarcnt\t3.4424464678274753\n",
      "propertylandusetypeid\t3.1758155985692023\n",
      "latitude\t3.1229722917229443\n",
      "taxvaluedollarcnt\t3.095788564573395\n",
      "assessmentyear\t3.0193749277922888\n",
      "buildingqualitytypeid\t2.7738720134653327\n",
      "heatingorsystemtypeid\t2.3993810576985624\n",
      "transaction_quarter\t2.389034293801706\n",
      "airconditioningtypeid\t2.1900429596160516\n",
      "landtaxvaluedollarcnt\t2.090379667982566\n",
      "longitude\t2.084941793526099\n",
      "censustractandblock\t1.9819640092392496\n",
      "taxdelinquencyyear\t1.6779208897534241\n",
      "bedroomcnt\t1.3816512052728742\n",
      "rawcensustractandblock\t1.2896210810684796\n",
      "garagetotalsqft\t1.2115343724459853\n",
      "regionidcounty\t0.9201561260597806\n",
      "fips\t0.5876459871452563\n",
      "fullbathcnt\t0.5077857245994675\n",
      "unitcnt\t0.4097842505855751\n",
      "finishedsquarefeet15\t0.3988227730978366\n",
      "numberofstories\t0.3490267640307051\n",
      "yardbuildingsqft17\t0.28836273675846696\n",
      "garagecarcnt\t0.27502766305813725\n",
      "bathroomcnt\t0.2547644862816086\n",
      "fireplacecnt\t0.2494142026277934\n",
      "calculatedbathnbr\t0.17255932328597764\n",
      "finishedsquarefeet50\t0.15219695308508566\n",
      "roomcnt\t0.07025687344539246\n",
      "threequarterbathnbr\t0.04560539023148275\n",
      "transaction_year\t0.0\n",
      "finishedfloor1squarefeet\t0.0\n",
      "\n",
      "Training (ensemble): 1 ...\n",
      "0:\tlearn: 0.0685766\ttest: 0.0698809\tbest: 0.0698809 (0)\ttotal: 309ms\tremaining: 2m 3s\n",
      "20:\tlearn: 0.0676232\ttest: 0.0691590\tbest: 0.0691590 (20)\ttotal: 7.55s\tremaining: 2m 16s\n",
      "40:\tlearn: 0.0674056\ttest: 0.0690888\tbest: 0.0690888 (40)\ttotal: 14.3s\tremaining: 2m 4s\n",
      "60:\tlearn: 0.0672074\ttest: 0.0690571\tbest: 0.0690571 (60)\ttotal: 20.5s\tremaining: 1m 53s\n",
      "80:\tlearn: 0.0670323\ttest: 0.0690249\tbest: 0.0690210 (79)\ttotal: 27s\tremaining: 1m 46s\n",
      "100:\tlearn: 0.0668845\ttest: 0.0690108\tbest: 0.0690063 (91)\ttotal: 33.2s\tremaining: 1m 38s\n",
      "120:\tlearn: 0.0667491\ttest: 0.0690098\tbest: 0.0690018 (109)\ttotal: 39.8s\tremaining: 1m 31s\n",
      "140:\tlearn: 0.0666343\ttest: 0.0690079\tbest: 0.0690018 (109)\ttotal: 45.9s\tremaining: 1m 24s\n",
      "160:\tlearn: 0.0665244\ttest: 0.0689846\tbest: 0.0689829 (157)\ttotal: 52.2s\tremaining: 1m 17s\n",
      "180:\tlearn: 0.0664232\ttest: 0.0689841\tbest: 0.0689769 (171)\ttotal: 58.5s\tremaining: 1m 10s\n",
      "200:\tlearn: 0.0663434\ttest: 0.0689825\tbest: 0.0689769 (171)\ttotal: 1m 4s\tremaining: 1m 3s\n",
      "220:\tlearn: 0.0662711\ttest: 0.0689801\tbest: 0.0689769 (171)\ttotal: 1m 10s\tremaining: 57.2s\n",
      "240:\tlearn: 0.0661792\ttest: 0.0689804\tbest: 0.0689769 (171)\ttotal: 1m 16s\tremaining: 50.5s\n",
      "260:\tlearn: 0.0661167\ttest: 0.0689748\tbest: 0.0689719 (257)\ttotal: 1m 22s\tremaining: 43.9s\n",
      "280:\tlearn: 0.0660422\ttest: 0.0689781\tbest: 0.0689719 (257)\ttotal: 1m 28s\tremaining: 37.5s\n",
      "300:\tlearn: 0.0659669\ttest: 0.0689801\tbest: 0.0689719 (257)\ttotal: 1m 34s\tremaining: 31.1s\n",
      "320:\tlearn: 0.0659181\ttest: 0.0689765\tbest: 0.0689719 (257)\ttotal: 1m 40s\tremaining: 24.7s\n",
      "340:\tlearn: 0.0658348\ttest: 0.0689889\tbest: 0.0689719 (257)\ttotal: 1m 46s\tremaining: 18.5s\n",
      "360:\tlearn: 0.0657742\ttest: 0.0689818\tbest: 0.0689719 (257)\ttotal: 1m 52s\tremaining: 12.2s\n",
      "380:\tlearn: 0.0657061\ttest: 0.0689809\tbest: 0.0689719 (257)\ttotal: 1m 58s\tremaining: 5.92s\n",
      "399:\tlearn: 0.0656474\ttest: 0.0689859\tbest: 0.0689719 (257)\ttotal: 2m 4s\tremaining: 0us\n",
      "bestTest = 0.06897192236\n",
      "bestIteration = 257\n",
      "Shrink model to first 258 iterations.\n",
      "-- Feature Importance --\n",
      "regionidzip\t7.629538512546574\n",
      "finishedsquarefeet12\t7.554960460542866\n",
      "yearbuilt\t6.537642638415014\n",
      "propertycountylandusecode\t5.641648303171811\n",
      "transaction_month\t5.231321882205107\n",
      "taxamount\t4.606084413174262\n",
      "regionidcity\t4.5003436280759095\n",
      "transaction_day\t4.396937030753743\n",
      "calculatedfinishedsquarefeet\t4.3535270663791135\n",
      "regionidneighborhood\t3.919625627643309\n",
      "lotsizesquarefeet\t3.9056108669799054\n",
      "structuretaxvaluedollarcnt\t3.295235002304228\n",
      "landtaxvaluedollarcnt\t2.9467445257694553\n",
      "buildingqualitytypeid\t2.777917221309531\n",
      "assessmentyear\t2.776299431135189\n",
      "taxvaluedollarcnt\t2.725216518664753\n",
      "latitude\t2.5645900963405004\n",
      "longitude\t2.4462554486121943\n",
      "censustractandblock\t2.3087854766788416\n",
      "propertylandusetypeid\t2.2099728691443183\n",
      "transaction_quarter\t2.1769402325893856\n",
      "heatingorsystemtypeid\t1.9532367926563463\n",
      "taxdelinquencyyear\t1.8526111986991314\n",
      "airconditioningtypeid\t1.7974753134601082\n",
      "regionidcounty\t1.5555441295948211\n",
      "rawcensustractandblock\t1.3724816018318584\n",
      "bedroomcnt\t1.0936572592090077\n",
      "fips\t0.9491924418888444\n",
      "garagetotalsqft\t0.8922952818035517\n",
      "fullbathcnt\t0.6214671423862178\n",
      "finishedsquarefeet15\t0.5864507919938926\n",
      "yardbuildingsqft17\t0.4916601034867637\n",
      "numberofstories\t0.39434269684999557\n",
      "fireplacecnt\t0.33480672099905884\n",
      "calculatedbathnbr\t0.31685383928447314\n",
      "finishedfloor1squarefeet\t0.2976982670574809\n",
      "garagecarcnt\t0.2560748582452272\n",
      "unitcnt\t0.23482285351309037\n",
      "finishedsquarefeet50\t0.17262626244909404\n",
      "bathroomcnt\t0.16721816289992578\n",
      "transaction_year\t0.10536729994012088\n",
      "roomcnt\t0.048919729314881144\n",
      "threequarterbathnbr\t0.0\n",
      "\n",
      "Training (ensemble): 2 ...\n",
      "0:\tlearn: 0.0685701\ttest: 0.0698722\tbest: 0.0698722 (0)\ttotal: 310ms\tremaining: 2m 3s\n",
      "20:\tlearn: 0.0676569\ttest: 0.0691580\tbest: 0.0691580 (20)\ttotal: 7.4s\tremaining: 2m 13s\n",
      "40:\tlearn: 0.0673854\ttest: 0.0690769\tbest: 0.0690763 (39)\ttotal: 14.3s\tremaining: 2m 4s\n",
      "60:\tlearn: 0.0671878\ttest: 0.0690424\tbest: 0.0690420 (59)\ttotal: 20.8s\tremaining: 1m 55s\n",
      "80:\tlearn: 0.0670305\ttest: 0.0690284\tbest: 0.0690282 (77)\ttotal: 27s\tremaining: 1m 46s\n",
      "100:\tlearn: 0.0669112\ttest: 0.0690132\tbest: 0.0690132 (100)\ttotal: 33s\tremaining: 1m 37s\n",
      "120:\tlearn: 0.0667792\ttest: 0.0690090\tbest: 0.0690090 (120)\ttotal: 39.5s\tremaining: 1m 30s\n",
      "140:\tlearn: 0.0666644\ttest: 0.0690101\tbest: 0.0690090 (120)\ttotal: 46.1s\tremaining: 1m 24s\n",
      "160:\tlearn: 0.0665553\ttest: 0.0690105\tbest: 0.0690016 (146)\ttotal: 52s\tremaining: 1m 17s\n",
      "180:\tlearn: 0.0664812\ttest: 0.0690051\tbest: 0.0690016 (146)\ttotal: 58.1s\tremaining: 1m 10s\n",
      "200:\tlearn: 0.0663943\ttest: 0.0690067\tbest: 0.0690016 (146)\ttotal: 1m 4s\tremaining: 1m 3s\n",
      "220:\tlearn: 0.0662906\ttest: 0.0690157\tbest: 0.0690016 (146)\ttotal: 1m 10s\tremaining: 57.3s\n"
     ]
    },
    {
     "name": "stdout",
     "output_type": "stream",
     "text": [
      "240:\tlearn: 0.0661877\ttest: 0.0690282\tbest: 0.0690016 (146)\ttotal: 1m 16s\tremaining: 50.8s\n",
      "260:\tlearn: 0.0661048\ttest: 0.0690282\tbest: 0.0690016 (146)\ttotal: 1m 23s\tremaining: 44.2s\n",
      "280:\tlearn: 0.0660352\ttest: 0.0690325\tbest: 0.0690016 (146)\ttotal: 1m 28s\tremaining: 37.6s\n",
      "300:\tlearn: 0.0659696\ttest: 0.0690387\tbest: 0.0690016 (146)\ttotal: 1m 34s\tremaining: 31.2s\n",
      "320:\tlearn: 0.0659028\ttest: 0.0690358\tbest: 0.0690016 (146)\ttotal: 1m 40s\tremaining: 24.8s\n",
      "340:\tlearn: 0.0658387\ttest: 0.0690308\tbest: 0.0690016 (146)\ttotal: 1m 47s\tremaining: 18.5s\n",
      "360:\tlearn: 0.0657521\ttest: 0.0690295\tbest: 0.0690016 (146)\ttotal: 1m 53s\tremaining: 12.2s\n",
      "380:\tlearn: 0.0656762\ttest: 0.0690237\tbest: 0.0690016 (146)\ttotal: 1m 59s\tremaining: 5.95s\n",
      "399:\tlearn: 0.0656024\ttest: 0.0690244\tbest: 0.0690016 (146)\ttotal: 2m 5s\tremaining: 0us\n",
      "bestTest = 0.06900160924\n",
      "bestIteration = 146\n",
      "Shrink model to first 147 iterations.\n",
      "-- Feature Importance --\n",
      "finishedsquarefeet12\t8.844267691835219\n",
      "regionidzip\t7.3654528123336425\n",
      "taxamount\t7.0284216682303455\n",
      "transaction_month\t5.9300659838851\n",
      "yearbuilt\t5.838178556143427\n",
      "propertycountylandusecode\t5.791851532170833\n",
      "calculatedfinishedsquarefeet\t4.6825288979729764\n",
      "lotsizesquarefeet\t4.173028915266964\n",
      "regionidneighborhood\t4.161752145140736\n",
      "latitude\t3.439439115785663\n",
      "regionidcity\t3.42743387566807\n",
      "structuretaxvaluedollarcnt\t3.304137800475975\n",
      "landtaxvaluedollarcnt\t3.0649360260848204\n",
      "taxvaluedollarcnt\t2.8235475749669514\n",
      "propertylandusetypeid\t2.776507030486644\n",
      "buildingqualitytypeid\t2.728248675466524\n",
      "transaction_day\t2.6966192004680507\n",
      "longitude\t2.14997690754187\n",
      "heatingorsystemtypeid\t1.9370099465861843\n",
      "assessmentyear\t1.8208788441436934\n",
      "taxdelinquencyyear\t1.8064143831950394\n",
      "transaction_quarter\t1.6734995453541341\n",
      "rawcensustractandblock\t1.5186339714731159\n",
      "bedroomcnt\t1.3615411356435616\n",
      "airconditioningtypeid\t1.15144872742691\n",
      "fips\t0.97338204074358\n",
      "garagetotalsqft\t0.9623755447546914\n",
      "censustractandblock\t0.96184431815323\n",
      "calculatedbathnbr\t0.8219794634830567\n",
      "regionidcounty\t0.8010218586126716\n",
      "yardbuildingsqft17\t0.6190078068340377\n",
      "bathroomcnt\t0.6041078472756256\n",
      "transaction_year\t0.5756001556063091\n",
      "numberofstories\t0.39494458270960703\n",
      "fireplacecnt\t0.3321944048561277\n",
      "roomcnt\t0.27140006937002376\n",
      "finishedsquarefeet50\t0.23698493195226733\n",
      "fullbathcnt\t0.21737934569859668\n",
      "unitcnt\t0.20288505686344488\n",
      "finishedfloor1squarefeet\t0.18922949444892317\n",
      "garagecarcnt\t0.18328403446476937\n",
      "finishedsquarefeet15\t0.1565580804265014\n",
      "threequarterbathnbr\t0.0\n",
      "\n",
      "Training (ensemble): 3 ...\n",
      "0:\tlearn: 0.0685723\ttest: 0.0698636\tbest: 0.0698636 (0)\ttotal: 303ms\tremaining: 2m\n",
      "20:\tlearn: 0.0676613\ttest: 0.0691390\tbest: 0.0691390 (20)\ttotal: 7.32s\tremaining: 2m 12s\n",
      "40:\tlearn: 0.0673861\ttest: 0.0690479\tbest: 0.0690479 (40)\ttotal: 14.3s\tremaining: 2m 5s\n",
      "60:\tlearn: 0.0672019\ttest: 0.0690194\tbest: 0.0690171 (59)\ttotal: 21.1s\tremaining: 1m 57s\n",
      "80:\tlearn: 0.0670685\ttest: 0.0689974\tbest: 0.0689946 (79)\ttotal: 27.5s\tremaining: 1m 48s\n",
      "100:\tlearn: 0.0669052\ttest: 0.0689854\tbest: 0.0689850 (98)\ttotal: 34s\tremaining: 1m 40s\n",
      "120:\tlearn: 0.0667754\ttest: 0.0689846\tbest: 0.0689826 (119)\ttotal: 40s\tremaining: 1m 32s\n",
      "140:\tlearn: 0.0666547\ttest: 0.0689829\tbest: 0.0689790 (135)\ttotal: 46.4s\tremaining: 1m 25s\n",
      "160:\tlearn: 0.0665519\ttest: 0.0689885\tbest: 0.0689763 (144)\ttotal: 52.5s\tremaining: 1m 18s\n",
      "180:\tlearn: 0.0664622\ttest: 0.0689945\tbest: 0.0689763 (144)\ttotal: 58.5s\tremaining: 1m 10s\n",
      "200:\tlearn: 0.0663810\ttest: 0.0689963\tbest: 0.0689763 (144)\ttotal: 1m 4s\tremaining: 1m 4s\n",
      "220:\tlearn: 0.0662767\ttest: 0.0689897\tbest: 0.0689763 (144)\ttotal: 1m 10s\tremaining: 57.4s\n",
      "240:\tlearn: 0.0661931\ttest: 0.0689842\tbest: 0.0689763 (144)\ttotal: 1m 17s\tremaining: 50.9s\n",
      "260:\tlearn: 0.0661113\ttest: 0.0689803\tbest: 0.0689763 (144)\ttotal: 1m 23s\tremaining: 44.3s\n",
      "280:\tlearn: 0.0660562\ttest: 0.0689759\tbest: 0.0689751 (273)\ttotal: 1m 29s\tremaining: 37.9s\n",
      "300:\tlearn: 0.0659808\ttest: 0.0689730\tbest: 0.0689726 (299)\ttotal: 1m 34s\tremaining: 31.2s\n",
      "320:\tlearn: 0.0659074\ttest: 0.0689743\tbest: 0.0689725 (307)\ttotal: 1m 40s\tremaining: 24.8s\n",
      "340:\tlearn: 0.0658462\ttest: 0.0689801\tbest: 0.0689725 (307)\ttotal: 1m 46s\tremaining: 18.5s\n",
      "360:\tlearn: 0.0657889\ttest: 0.0689715\tbest: 0.0689715 (360)\ttotal: 1m 52s\tremaining: 12.2s\n",
      "380:\tlearn: 0.0657186\ttest: 0.0689814\tbest: 0.0689696 (362)\ttotal: 1m 58s\tremaining: 5.92s\n",
      "399:\tlearn: 0.0656609\ttest: 0.0689800\tbest: 0.0689696 (362)\ttotal: 2m 4s\tremaining: 0us\n",
      "bestTest = 0.06896955206\n",
      "bestIteration = 362\n",
      "Shrink model to first 363 iterations.\n",
      "-- Feature Importance --\n",
      "regionidzip\t8.33430691806267\n",
      "finishedsquarefeet12\t5.733843658728652\n",
      "yearbuilt\t5.687761472583937\n",
      "transaction_month\t5.494790266983178\n",
      "transaction_day\t5.471794815012251\n",
      "taxamount\t5.035195142868202\n",
      "calculatedfinishedsquarefeet\t4.309002883792344\n",
      "regionidcity\t4.288391484235638\n",
      "propertycountylandusecode\t4.204384108266405\n",
      "latitude\t3.3905460208138054\n",
      "regionidneighborhood\t3.3044365977680825\n",
      "landtaxvaluedollarcnt\t3.171134719929036\n",
      "taxvaluedollarcnt\t3.117306854441824\n",
      "buildingqualitytypeid\t3.0484551917778315\n",
      "propertylandusetypeid\t3.042707320510322\n",
      "transaction_quarter\t3.018464550387958\n",
      "lotsizesquarefeet\t2.8654754021617097\n",
      "assessmentyear\t2.7698112540487907\n",
      "longitude\t2.515149862421292\n",
      "structuretaxvaluedollarcnt\t2.4833556658351976\n",
      "heatingorsystemtypeid\t2.4118629811266232\n",
      "taxdelinquencyyear\t1.95857809246066\n",
      "censustractandblock\t1.9031134181686542\n",
      "airconditioningtypeid\t1.6768825270871288\n",
      "rawcensustractandblock\t1.639407861003078\n",
      "fips\t1.5548065323517588\n",
      "regionidcounty\t1.2410387916132377\n",
      "bedroomcnt\t1.2013942311017478\n",
      "bathroomcnt\t1.0074215738483767\n",
      "garagetotalsqft\t0.8445641535248395\n",
      "unitcnt\t0.5183525219355242\n",
      "fullbathcnt\t0.45859648522954466\n",
      "calculatedbathnbr\t0.448123166396113\n",
      "numberofstories\t0.3364045667517661\n",
      "yardbuildingsqft17\t0.3230625225691347\n",
      "finishedsquarefeet15\t0.2752232211515053\n",
      "transaction_year\t0.23912138249574133\n",
      "garagecarcnt\t0.21827493376229343\n",
      "finishedfloor1squarefeet\t0.19869633769878103\n",
      "fireplacecnt\t0.12639189811580576\n",
      "finishedsquarefeet50\t0.07002998136655042\n",
      "roomcnt\t0.06233862961196104\n",
      "threequarterbathnbr\t0.0\n",
      "\n",
      "Training (ensemble): 4 ...\n",
      "0:\tlearn: 0.0685665\ttest: 0.0698712\tbest: 0.0698712 (0)\ttotal: 293ms\tremaining: 1m 56s\n",
      "20:\tlearn: 0.0676654\ttest: 0.0691550\tbest: 0.0691550 (20)\ttotal: 7.32s\tremaining: 2m 12s\n",
      "40:\tlearn: 0.0673954\ttest: 0.0690987\tbest: 0.0690987 (40)\ttotal: 14.1s\tremaining: 2m 3s\n",
      "60:\tlearn: 0.0672079\ttest: 0.0690458\tbest: 0.0690458 (60)\ttotal: 21s\tremaining: 1m 56s\n",
      "80:\tlearn: 0.0670421\ttest: 0.0690546\tbest: 0.0690428 (62)\ttotal: 27.6s\tremaining: 1m 48s\n",
      "100:\tlearn: 0.0668939\ttest: 0.0690404\tbest: 0.0690404 (100)\ttotal: 34s\tremaining: 1m 40s\n",
      "120:\tlearn: 0.0667393\ttest: 0.0690319\tbest: 0.0690278 (109)\ttotal: 40.6s\tremaining: 1m 33s\n",
      "140:\tlearn: 0.0666216\ttest: 0.0690325\tbest: 0.0690278 (109)\ttotal: 46.8s\tremaining: 1m 26s\n",
      "160:\tlearn: 0.0665296\ttest: 0.0690229\tbest: 0.0690218 (158)\ttotal: 53s\tremaining: 1m 18s\n",
      "180:\tlearn: 0.0664466\ttest: 0.0690289\tbest: 0.0690218 (158)\ttotal: 59.1s\tremaining: 1m 11s\n",
      "200:\tlearn: 0.0663425\ttest: 0.0690179\tbest: 0.0690134 (193)\ttotal: 1m 5s\tremaining: 1m 4s\n",
      "220:\tlearn: 0.0662543\ttest: 0.0690183\tbest: 0.0690134 (193)\ttotal: 1m 11s\tremaining: 57.8s\n",
      "240:\tlearn: 0.0661684\ttest: 0.0690242\tbest: 0.0690134 (193)\ttotal: 1m 17s\tremaining: 51.2s\n",
      "260:\tlearn: 0.0660843\ttest: 0.0690131\tbest: 0.0690105 (257)\ttotal: 1m 23s\tremaining: 44.5s\n",
      "280:\tlearn: 0.0660109\ttest: 0.0690211\tbest: 0.0690105 (257)\ttotal: 1m 29s\tremaining: 37.9s\n",
      "300:\tlearn: 0.0659340\ttest: 0.0690102\tbest: 0.0690094 (298)\ttotal: 1m 35s\tremaining: 31.3s\n",
      "320:\tlearn: 0.0658738\ttest: 0.0690101\tbest: 0.0690094 (318)\ttotal: 1m 40s\tremaining: 24.8s\n",
      "340:\tlearn: 0.0657901\ttest: 0.0690204\tbest: 0.0690070 (321)\ttotal: 1m 47s\tremaining: 18.5s\n",
      "360:\tlearn: 0.0657205\ttest: 0.0690214\tbest: 0.0690070 (321)\ttotal: 1m 53s\tremaining: 12.2s\n",
      "380:\tlearn: 0.0656391\ttest: 0.0690164\tbest: 0.0690070 (321)\ttotal: 1m 59s\tremaining: 5.94s\n",
      "399:\tlearn: 0.0655780\ttest: 0.0690250\tbest: 0.0690070 (321)\ttotal: 2m 4s\tremaining: 0us\n",
      "bestTest = 0.06900696059\n",
      "bestIteration = 321\n",
      "Shrink model to first 322 iterations.\n",
      "-- Feature Importance --\n",
      "regionidzip\t6.607974064961717\n",
      "yearbuilt\t6.253815305759698\n",
      "finishedsquarefeet12\t6.025416232354975\n",
      "taxamount\t5.940599093649838\n",
      "transaction_day\t5.870738867535\n",
      "transaction_month\t5.603982911814698\n",
      "regionidcity\t5.0746855019762505\n",
      "propertycountylandusecode\t4.602407440861336\n",
      "regionidneighborhood\t3.766353065735892\n",
      "calculatedfinishedsquarefeet\t3.6436611317744476\n",
      "latitude\t3.6390173144840183\n",
      "lotsizesquarefeet\t3.6204128367715795\n",
      "taxvaluedollarcnt\t3.482570096149442\n",
      "heatingorsystemtypeid\t3.0006049838515825\n",
      "buildingqualitytypeid\t2.9726351491580334\n",
      "propertylandusetypeid\t2.9488217790377136\n",
      "structuretaxvaluedollarcnt\t2.8310998016786924\n",
      "transaction_quarter\t2.724128117972506\n",
      "landtaxvaluedollarcnt\t2.6970189007427523\n",
      "airconditioningtypeid\t1.9336867959678106\n",
      "assessmentyear\t1.9201640396140989\n",
      "longitude\t1.8399865322193507\n",
      "censustractandblock\t1.7064895259281017\n",
      "taxdelinquencyyear\t1.5017948459957022\n",
      "bedroomcnt\t1.350096612172043\n",
      "garagetotalsqft\t1.122340967028286\n",
      "fullbathcnt\t1.0751423745093533\n",
      "fips\t0.9347109966715622\n",
      "regionidcounty\t0.8859138577257248\n",
      "rawcensustractandblock\t0.7271696021990737\n",
      "yardbuildingsqft17\t0.5724819084432229\n",
      "calculatedbathnbr\t0.4338279737525387\n",
      "numberofstories\t0.4104368873330988\n",
      "finishedsquarefeet50\t0.4055240338821753\n",
      "finishedsquarefeet15\t0.3374222641779842\n",
      "bathroomcnt\t0.30700723374554983\n",
      "unitcnt\t0.25712108633812586\n",
      "transaction_year\t0.25358895832169476\n",
      "garagecarcnt\t0.2081381295922037\n",
      "roomcnt\t0.1888215976127729\n",
      "finishedfloor1squarefeet\t0.15805500998546446\n",
      "fireplacecnt\t0.1270759958603523\n",
      "threequarterbathnbr\t0.03706017465352245\n"
     ]
    }
   ],
   "source": [
    "num_ensembles = 5\n",
    "# ensemble models\n",
    "models = [None] * num_ensembles\n",
    "for i in range(num_ensembles):\n",
    "    print(\"\\nTraining (ensemble): %d ...\" % (i))\n",
    "    catboost_parameters['random_seed'] = i\n",
    "    models[i] = CatBoostRegressor(**catboost_parameters)\n",
    "    models[i].fit(train_pool, eval_set=test_pool)\n",
    "    print('-- Feature Importance --')\n",
    "    print_feature_importance(models[i], train_pool, X_train)"
   ]
  },
  {
   "cell_type": "code",
   "execution_count": 22,
   "metadata": {
    "_uuid": "2944def9a7a3364cb238dd6a4da7bbfd23b2310f"
   },
   "outputs": [
    {
     "name": "stdout",
     "output_type": "stream",
     "text": [
      "Predicting for: 201610 ... \n",
      "Ensemble: 0\n",
      "Ensemble: 1\n",
      "Ensemble: 2\n",
      "Ensemble: 3\n",
      "Ensemble: 4\n",
      "Predicting for: 201611 ... \n",
      "Ensemble: 0\n",
      "Ensemble: 1\n",
      "Ensemble: 2\n",
      "Ensemble: 3\n",
      "Ensemble: 4\n",
      "Predicting for: 201612 ... \n",
      "Ensemble: 0\n",
      "Ensemble: 1\n",
      "Ensemble: 2\n",
      "Ensemble: 3\n",
      "Ensemble: 4\n",
      "Predicting for: 201710 ... \n",
      "Ensemble: 0\n",
      "Ensemble: 1\n",
      "Ensemble: 2\n",
      "Ensemble: 3\n",
      "Ensemble: 4\n",
      "Predicting for: 201711 ... \n",
      "Ensemble: 0\n",
      "Ensemble: 1\n",
      "Ensemble: 2\n",
      "Ensemble: 3\n",
      "Ensemble: 4\n",
      "Predicting for: 201712 ... \n",
      "Ensemble: 0\n",
      "Ensemble: 1\n",
      "Ensemble: 2\n",
      "Ensemble: 3\n",
      "Ensemble: 4\n",
      "Creating submission: submission_002.csv ...\n",
      "Finished.\n"
     ]
    }
   ],
   "source": [
    "submission = pd.DataFrame({\n",
    "    'ParcelId': test_df['parcelid'],\n",
    "})\n",
    "\n",
    "test_dates = {\n",
    "    '201610': pd.Timestamp('2016-09-30'),\n",
    "    '201611': pd.Timestamp('2016-10-31'),\n",
    "    '201612': pd.Timestamp('2016-11-30'),\n",
    "    '201710': pd.Timestamp('2017-09-30'),\n",
    "    '201711': pd.Timestamp('2017-10-31'),\n",
    "    '201712': pd.Timestamp('2017-11-30')\n",
    "}\n",
    "\n",
    "for label, test_date in test_dates.items():\n",
    "    print(\"Predicting for: %s ... \" % (label))\n",
    "    test_df['transactiondate'] = test_date\n",
    "    test_df = add_date_features(test_df)\n",
    "    y_pred = 0.0\n",
    "    for i in range(num_ensembles):\n",
    "        print(\"Ensemble:\", i)\n",
    "        y_pred += models[i].predict(test_df[train_features])\n",
    "    y_pred /= num_ensembles\n",
    "    submission[label] = y_pred\n",
    "\n",
    "submission_major = 2\n",
    "print(\"Creating submission: submission_%03d.csv ...\" % (submission_major))\n",
    "submission.to_csv(\n",
    "    'C:/Users/Yousuf Khan/Data/zillow-prize-1/submission_%03d.csv' % (submission_major),\n",
    "    float_format='%.4f',\n",
    "    index=False)\n",
    "print(\"Finished.\")"
   ]
  }
 ],
 "metadata": {
  "kernelspec": {
   "display_name": "Python 3",
   "language": "python",
   "name": "python3"
  },
  "language_info": {
   "codemirror_mode": {
    "name": "ipython",
    "version": 3
   },
   "file_extension": ".py",
   "mimetype": "text/x-python",
   "name": "python",
   "nbconvert_exporter": "python",
   "pygments_lexer": "ipython3",
   "version": "3.6.8"
  }
 },
 "nbformat": 4,
 "nbformat_minor": 1
}
